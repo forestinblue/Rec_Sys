{
 "cells": [
  {
   "cell_type": "code",
   "execution_count": 149,
   "id": "1d75ce0b",
   "metadata": {},
   "outputs": [],
   "source": [
    "import pandas as pd\n",
    "from surprise import Dataset, Reader\n",
    "import matplotlib.pyplot as plt\n",
    "import numpy as np\n",
    "import surprise"
   ]
  },
  {
   "cell_type": "code",
   "execution_count": 150,
   "id": "56f552a1",
   "metadata": {},
   "outputs": [],
   "source": [
    "ratings = pd.read_csv('C:/Users/kimjunseok/Downloads/mealion/ratings.csv')"
   ]
  },
  {
   "cell_type": "code",
   "execution_count": 151,
   "id": "daf469d5",
   "metadata": {},
   "outputs": [],
   "source": [
    "reader = Reader(rating_scale=(0.5, 5))"
   ]
  },
  {
   "cell_type": "code",
   "execution_count": 152,
   "id": "5f923d08",
   "metadata": {},
   "outputs": [],
   "source": [
    "data = Dataset.load_from_df(ratings[['restaurantId','userId','score']],\n",
    "                           reader=reader)"
   ]
  },
  {
   "cell_type": "code",
   "execution_count": 153,
   "id": "f5661365",
   "metadata": {},
   "outputs": [
    {
     "data": {
      "text/plain": [
       "<surprise.dataset.DatasetAutoFolds at 0x1a60a75ce80>"
      ]
     },
     "execution_count": 153,
     "metadata": {},
     "output_type": "execute_result"
    }
   ],
   "source": [
    "data"
   ]
  },
  {
   "cell_type": "code",
   "execution_count": 154,
   "id": "50f69f27",
   "metadata": {},
   "outputs": [
    {
     "name": "stdout",
     "output_type": "stream",
     "text": [
      "   restaurantId  userId  score\n",
      "0        506184     3.0    4.0\n",
      "1        341523     3.0    3.0\n",
      "2        385515     3.0    5.0\n",
      "3        514251     1.0    5.0\n",
      "4        341523     1.0    4.0\n",
      "5        314205     1.0    3.0\n",
      "6        550209     1.0    4.0\n",
      "7        227922     1.0    4.0\n",
      "8        418808     1.0    4.5\n",
      "9        514126     1.0    4.0\n"
     ]
    }
   ],
   "source": [
    "df = pd.DataFrame(data.raw_ratings, columns =['restaurantId','userId','score','otherscores'])\n",
    "del df [\"otherscores\"]\n",
    "print(df.head(10))"
   ]
  },
  {
   "cell_type": "code",
   "execution_count": 155,
   "id": "111b8f42",
   "metadata": {},
   "outputs": [
    {
     "data": {
      "text/html": [
       "<div>\n",
       "<style scoped>\n",
       "    .dataframe tbody tr th:only-of-type {\n",
       "        vertical-align: middle;\n",
       "    }\n",
       "\n",
       "    .dataframe tbody tr th {\n",
       "        vertical-align: top;\n",
       "    }\n",
       "\n",
       "    .dataframe thead th {\n",
       "        text-align: right;\n",
       "    }\n",
       "</style>\n",
       "<table border=\"1\" class=\"dataframe\">\n",
       "  <thead>\n",
       "    <tr style=\"text-align: right;\">\n",
       "      <th></th>\n",
       "      <th>restaurantId</th>\n",
       "      <th>userId</th>\n",
       "      <th>score</th>\n",
       "    </tr>\n",
       "  </thead>\n",
       "  <tbody>\n",
       "    <tr>\n",
       "      <th>0</th>\n",
       "      <td>506184</td>\n",
       "      <td>3.0</td>\n",
       "      <td>4.0</td>\n",
       "    </tr>\n",
       "    <tr>\n",
       "      <th>1</th>\n",
       "      <td>341523</td>\n",
       "      <td>3.0</td>\n",
       "      <td>3.0</td>\n",
       "    </tr>\n",
       "    <tr>\n",
       "      <th>2</th>\n",
       "      <td>385515</td>\n",
       "      <td>3.0</td>\n",
       "      <td>5.0</td>\n",
       "    </tr>\n",
       "    <tr>\n",
       "      <th>3</th>\n",
       "      <td>514251</td>\n",
       "      <td>1.0</td>\n",
       "      <td>5.0</td>\n",
       "    </tr>\n",
       "    <tr>\n",
       "      <th>4</th>\n",
       "      <td>341523</td>\n",
       "      <td>1.0</td>\n",
       "      <td>4.0</td>\n",
       "    </tr>\n",
       "    <tr>\n",
       "      <th>...</th>\n",
       "      <td>...</td>\n",
       "      <td>...</td>\n",
       "      <td>...</td>\n",
       "    </tr>\n",
       "    <tr>\n",
       "      <th>3648</th>\n",
       "      <td>850776</td>\n",
       "      <td>532.0</td>\n",
       "      <td>5.0</td>\n",
       "    </tr>\n",
       "    <tr>\n",
       "      <th>3649</th>\n",
       "      <td>851099</td>\n",
       "      <td>330.0</td>\n",
       "      <td>4.5</td>\n",
       "    </tr>\n",
       "    <tr>\n",
       "      <th>3650</th>\n",
       "      <td>698116</td>\n",
       "      <td>330.0</td>\n",
       "      <td>4.0</td>\n",
       "    </tr>\n",
       "    <tr>\n",
       "      <th>3651</th>\n",
       "      <td>668776</td>\n",
       "      <td>330.0</td>\n",
       "      <td>5.0</td>\n",
       "    </tr>\n",
       "    <tr>\n",
       "      <th>3652</th>\n",
       "      <td>842047</td>\n",
       "      <td>9.0</td>\n",
       "      <td>4.0</td>\n",
       "    </tr>\n",
       "  </tbody>\n",
       "</table>\n",
       "<p>3653 rows × 3 columns</p>\n",
       "</div>"
      ],
      "text/plain": [
       "      restaurantId  userId  score\n",
       "0           506184     3.0    4.0\n",
       "1           341523     3.0    3.0\n",
       "2           385515     3.0    5.0\n",
       "3           514251     1.0    5.0\n",
       "4           341523     1.0    4.0\n",
       "...            ...     ...    ...\n",
       "3648        850776   532.0    5.0\n",
       "3649        851099   330.0    4.5\n",
       "3650        698116   330.0    4.0\n",
       "3651        668776   330.0    5.0\n",
       "3652        842047     9.0    4.0\n",
       "\n",
       "[3653 rows x 3 columns]"
      ]
     },
     "execution_count": 155,
     "metadata": {},
     "output_type": "execute_result"
    }
   ],
   "source": [
    "df"
   ]
  },
  {
   "cell_type": "code",
   "execution_count": 156,
   "id": "de84e196",
   "metadata": {},
   "outputs": [
    {
     "name": "stdout",
     "output_type": "stream",
     "text": [
      "                     score\n",
      "restaurantId userId       \n",
      "506184       3.0       4.0\n",
      "341523       3.0       3.0\n",
      "385515       3.0       5.0\n",
      "514251       1.0       5.0\n",
      "341523       1.0       4.0\n",
      "314205       1.0       3.0\n",
      "550209       1.0       4.0\n",
      "227922       1.0       4.0\n",
      "418808       1.0       4.5\n",
      "514126       1.0       4.0\n"
     ]
    }
   ],
   "source": [
    "print(df.set_index(['restaurantId','userId']).head(10))"
   ]
  },
  {
   "cell_type": "code",
   "execution_count": 157,
   "id": "c07db450",
   "metadata": {},
   "outputs": [
    {
     "name": "stdout",
     "output_type": "stream",
     "text": [
      "             score     \n",
      "userId         3.0  1.0\n",
      "restaurantId           \n",
      "506184         4.0  NaN\n",
      "341523         3.0  4.0\n",
      "385515         5.0  NaN\n",
      "514251         NaN  5.0\n",
      "314205         NaN  3.0\n",
      "550209         NaN  4.0\n",
      "227922         NaN  4.0\n",
      "418808         NaN  4.5\n",
      "514126         NaN  4.0\n"
     ]
    }
   ],
   "source": [
    "print(df.set_index(['restaurantId','userId']).head(10).unstack())"
   ]
  },
  {
   "cell_type": "code",
   "execution_count": 158,
   "id": "1af56f39",
   "metadata": {},
   "outputs": [
    {
     "name": "stdout",
     "output_type": "stream",
     "text": [
      "             score                                                        ...  \\\n",
      "userId         NaN 1.0   3.0   4.0   6.0   7.0   9.0   11.0  12.0  20.0   ...   \n",
      "restaurantId                                                              ...   \n",
      "1              NaN   NaN   NaN   NaN   NaN   NaN   NaN   NaN   NaN   NaN  ...   \n",
      "2050           NaN   NaN   NaN   NaN   NaN   NaN   NaN   NaN   NaN   NaN  ...   \n",
      "3664           NaN   NaN   NaN   NaN   NaN   NaN   NaN   NaN   NaN   NaN  ...   \n",
      "3764           NaN   NaN   NaN   NaN   NaN   NaN   NaN   NaN   NaN   NaN  ...   \n",
      "3766           NaN   NaN   NaN   NaN   NaN   NaN   NaN   NaN   NaN   NaN  ...   \n",
      "...            ...   ...   ...   ...   ...   ...   ...   ...   ...   ...  ...   \n",
      "851094         NaN   NaN   NaN   NaN   NaN   NaN   NaN   NaN   NaN   NaN  ...   \n",
      "851096         NaN   NaN   NaN   NaN   NaN   NaN   5.0   NaN   NaN   NaN  ...   \n",
      "851097         NaN   NaN   NaN   NaN   NaN   NaN   NaN   NaN   NaN   NaN  ...   \n",
      "851098         NaN   NaN   NaN   NaN   NaN   NaN   NaN   NaN   NaN   NaN  ...   \n",
      "851099         NaN   NaN   NaN   NaN   NaN   NaN   NaN   NaN   NaN   NaN  ...   \n",
      "\n",
      "                                                                          \n",
      "userId       804.0 805.0 809.0 830.0 832.0 845.0 861.0 867.0 883.0 887.0  \n",
      "restaurantId                                                              \n",
      "1              NaN   NaN   NaN   NaN   NaN   NaN   NaN   NaN   NaN   NaN  \n",
      "2050           NaN   NaN   NaN   NaN   NaN   NaN   NaN   NaN   NaN   NaN  \n",
      "3664           NaN   NaN   NaN   NaN   NaN   NaN   NaN   NaN   NaN   NaN  \n",
      "3764           NaN   NaN   NaN   NaN   NaN   NaN   NaN   NaN   NaN   NaN  \n",
      "3766           NaN   NaN   NaN   NaN   NaN   NaN   NaN   NaN   NaN   NaN  \n",
      "...            ...   ...   ...   ...   ...   ...   ...   ...   ...   ...  \n",
      "851094         NaN   NaN   NaN   NaN   NaN   NaN   NaN   NaN   NaN   NaN  \n",
      "851096         NaN   NaN   NaN   NaN   NaN   NaN   NaN   NaN   NaN   NaN  \n",
      "851097         NaN   NaN   NaN   NaN   NaN   NaN   NaN   NaN   NaN   NaN  \n",
      "851098         NaN   NaN   NaN   NaN   NaN   NaN   NaN   NaN   NaN   NaN  \n",
      "851099         NaN   NaN   NaN   NaN   NaN   NaN   NaN   NaN   NaN   NaN  \n",
      "\n",
      "[2082 rows x 321 columns]\n"
     ]
    }
   ],
   "source": [
    "df_table = df.set_index(['restaurantId','userId']).unstack()\n",
    "print(df_table)"
   ]
  },
  {
   "cell_type": "code",
   "execution_count": 159,
   "id": "18eea623",
   "metadata": {},
   "outputs": [
    {
     "name": "stdout",
     "output_type": "stream",
     "text": [
      "             score                                                        \\\n",
      "userId       249.0 251.0 258.0 261.0 262.0 264.0 267.0 268.0 275.0 278.0   \n",
      "restaurantId                                                               \n",
      "138212                                                                     \n",
      "138282                                                         3.0         \n",
      "138376                                                                     \n",
      "138406                                                                     \n",
      "138431                                                                     \n",
      "138433                                                                     \n",
      "147536                                                                     \n",
      "147573                                                                     \n",
      "147578                                                                     \n",
      "147647                                                                     \n",
      "\n",
      "                                                                          \n",
      "userId       279.0 282.0 283.0 288.0 295.0 297.0 299.0 302.0 303.0 304.0  \n",
      "restaurantId                                                              \n",
      "138212                                                                    \n",
      "138282                                 4.0                                \n",
      "138376                                                                    \n",
      "138406                                                                    \n",
      "138431                                                                    \n",
      "138433                                                                    \n",
      "147536                                                                    \n",
      "147573                                                                    \n",
      "147578                                                                    \n",
      "147647                                                                    \n"
     ]
    }
   ],
   "source": [
    "print(df_table.iloc[212:222, 100:120].fillna(\"\"))"
   ]
  },
  {
   "cell_type": "code",
   "execution_count": 160,
   "id": "7e543a68",
   "metadata": {},
   "outputs": [
    {
     "data": {
      "image/png": "[encoded data removed]",
      "text/plain": [
       "<Figure size 640x480 with 1 Axes>"
      ]
     },
     "metadata": {},
     "output_type": "display_data"
    }
   ],
   "source": [
    "plt.imshow(df_table)\n",
    "plt.grid(False)\n",
    "plt.xlabel(\"restaurantId\")\n",
    "plt.ylabel(\"userId\")\n",
    "plt.title(\"Rate Matrix\")\n",
    "plt.show()"
   ]
  },
  {
   "cell_type": "markdown",
   "id": "d98b1114",
   "metadata": {},
   "source": [
    "### 베이스 라인-als"
   ]
  },
  {
   "cell_type": "code",
   "execution_count": 217,
   "id": "bafaa6f3",
   "metadata": {},
   "outputs": [
    {
     "name": "stdout",
     "output_type": "stream",
     "text": [
      "Estimating biases using als...\n",
      "Estimating biases using als...\n",
      "Estimating biases using als...\n",
      "Estimating biases using als...\n",
      "Estimating biases using als...\n",
      "Estimating biases using als...\n",
      "Estimating biases using als...\n",
      "Estimating biases using als...\n",
      "Estimating biases using als...\n",
      "Estimating biases using als...\n",
      "Estimating biases using als...\n",
      "Estimating biases using als...\n",
      "Estimating biases using als...\n",
      "Estimating biases using als...\n",
      "Estimating biases using als...\n",
      "Estimating biases using als...\n",
      "Estimating biases using als...\n",
      "Estimating biases using als...\n",
      "Estimating biases using als...\n",
      "Estimating biases using als...\n",
      "Estimating biases using als...\n",
      "Estimating biases using als...\n",
      "Estimating biases using als...\n",
      "Estimating biases using als...\n",
      "Estimating biases using als...\n",
      "Estimating biases using als...\n",
      "Estimating biases using als...\n",
      "Estimating biases using als...\n",
      "Estimating biases using als...\n",
      "Estimating biases using als...\n",
      "Estimating biases using als...\n",
      "Estimating biases using als...\n",
      "Estimating biases using als...\n",
      "Estimating biases using als...\n",
      "Estimating biases using als...\n",
      "Estimating biases using als...\n",
      "Estimating biases using als...\n",
      "Estimating biases using als...\n",
      "Estimating biases using als...\n",
      "Estimating biases using als...\n",
      "Estimating biases using als...\n",
      "Estimating biases using als...\n",
      "Estimating biases using als...\n",
      "Estimating biases using als...\n",
      "Estimating biases using als...\n",
      "Estimating biases using als...\n",
      "Estimating biases using als...\n",
      "Estimating biases using als...\n",
      "Estimating biases using als...\n",
      "Estimating biases using als...\n",
      "Estimating biases using als...\n",
      "Estimating biases using als...\n",
      "Estimating biases using als...\n",
      "Estimating biases using als...\n",
      "Estimating biases using als...\n",
      "Estimating biases using als...\n",
      "Estimating biases using als...\n",
      "Estimating biases using als...\n",
      "Estimating biases using als...\n",
      "Estimating biases using als...\n",
      "Estimating biases using als...\n",
      "Estimating biases using als...\n",
      "Estimating biases using als...\n",
      "Estimating biases using als...\n",
      "Estimating biases using als...\n",
      "Estimating biases using als...\n",
      "Estimating biases using als...\n",
      "Estimating biases using als...\n",
      "Estimating biases using als...\n",
      "Estimating biases using als...\n",
      "Estimating biases using als...\n",
      "Estimating biases using als...\n",
      "Estimating biases using als...\n",
      "Estimating biases using als...\n",
      "Estimating biases using als...\n",
      "Estimating biases using als...\n",
      "Estimating biases using als...\n",
      "Estimating biases using als...\n",
      "Estimating biases using als...\n",
      "Estimating biases using als...\n",
      "Estimating biases using als...\n"
     ]
    }
   ],
   "source": [
    "from surprise.model_selection import GridSearchCV\n",
    "\n",
    "param_grid = {'bsl_options': {'method': ['als'],\n",
    "                              'epochs':[2,5,10 ],\n",
    "                              'reg_i': [2,5,15], # lambda 2\n",
    "                              'reg_u': [3,5,10],# lambda 3\n",
    "                             }   \n",
    "             }\n",
    "grid = GridSearchCV(surprise.BaselineOnly, param_grid, measures=['rmse','mae'], cv=3, return_train_measures=True, n_jobs=1)\n",
    "grid.fit(data)"
   ]
  },
  {
   "cell_type": "code",
   "execution_count": 218,
   "id": "6404941b",
   "metadata": {},
   "outputs": [
    {
     "name": "stdout",
     "output_type": "stream",
     "text": [
      "0.766012885616389\n",
      "{'bsl_options': {'method': 'als', 'epochs': 2, 'reg_i': 2, 'reg_u': 5}}\n",
      "0.5890727355969142\n",
      "{'bsl_options': {'method': 'als', 'epochs': 2, 'reg_i': 2, 'reg_u': 5}}\n"
     ]
    }
   ],
   "source": [
    "print(grid.best_score['rmse'])\n",
    "print(grid.best_params['rmse'])\n",
    "print(grid.best_score['mae'])\n",
    "print(grid.best_params['mae'])"
   ]
  },
  {
   "cell_type": "code",
   "execution_count": 220,
   "id": "36f879d7",
   "metadata": {},
   "outputs": [
    {
     "name": "stdout",
     "output_type": "stream",
     "text": [
      "Estimating biases using als...\n",
      "RMSE: 0.7587\n",
      "Estimating biases using als...\n",
      "RMSE: 0.7867\n",
      "Estimating biases using als...\n",
      "RMSE: 0.7723\n"
     ]
    }
   ],
   "source": [
    "from surprise.model_selection import KFold\n",
    "np.random.seed(0)\n",
    "\n",
    "bsl_options = {\n",
    "    'method': 'als',\n",
    "    'n_epochs': 2,\n",
    "    'reg_u' : 5,\n",
    "    'reg_i': 2\n",
    "}\n",
    "algo = surprise.BaselineOnly(bsl_options=bsl_options)\n",
    "\n",
    "acc = np.zeros(3)\n",
    "cv = KFold(3)\n",
    "for i , (trainset, testset) in enumerate(cv.split(data)):\n",
    "    algo.fit(trainset)\n",
    "    predictions = algo.test(testset)\n",
    "    acc[i] = surprise.accuracy.rmse(predictions, verbose=True)\n",
    "    \n",
    "    \n",
    "# 2가지 방식 ‘ALS’ 랑 ‘SGD’방식이 있다."
   ]
  },
  {
   "cell_type": "code",
   "execution_count": 221,
   "id": "b75924d4",
   "metadata": {},
   "outputs": [
    {
     "name": "stdout",
     "output_type": "stream",
     "text": [
      "0.7725840696895191\n"
     ]
    }
   ],
   "source": [
    "print(acc.mean())"
   ]
  },
  {
   "cell_type": "code",
   "execution_count": 222,
   "id": "0653ee65",
   "metadata": {
    "scrolled": true
   },
   "outputs": [
    {
     "name": "stdout",
     "output_type": "stream",
     "text": [
      "Estimating biases using als...\n",
      "Estimating biases using als...\n",
      "Estimating biases using als...\n",
      "Estimating biases using als...\n",
      "Estimating biases using als...\n",
      "{'test_rmse': array([0.77011781, 0.78815671, 0.74867395, 0.7789555 , 0.73830786]), 'test_mae': array([0.59613719, 0.58423845, 0.57242559, 0.60256576, 0.57476356]), 'fit_time': (0.0050013065338134766, 0.006995201110839844, 0.003998517990112305, 0.002998828887939453, 0.0029997825622558594), 'test_time': (0.004995822906494141, 0.006027698516845703, 0.005031108856201172, 0.002998828887939453, 0.002001047134399414)}\n"
     ]
    }
   ],
   "source": [
    "from surprise.model_selection import cross_validate\n",
    "\n",
    "print(cross_validate(algo, data))"
   ]
  },
  {
   "cell_type": "markdown",
   "id": "b90c9bd0",
   "metadata": {},
   "source": [
    "### 베이스 라인-SGD"
   ]
  },
  {
   "cell_type": "code",
   "execution_count": 228,
   "id": "36fc296a",
   "metadata": {},
   "outputs": [
    {
     "name": "stdout",
     "output_type": "stream",
     "text": [
      "Estimating biases using sgd...\n",
      "Estimating biases using sgd...\n",
      "Estimating biases using sgd...\n",
      "Estimating biases using sgd...\n",
      "Estimating biases using sgd...\n",
      "Estimating biases using sgd...\n",
      "Estimating biases using sgd...\n",
      "Estimating biases using sgd...\n",
      "Estimating biases using sgd...\n",
      "Estimating biases using sgd...\n",
      "Estimating biases using sgd...\n",
      "Estimating biases using sgd...\n",
      "Estimating biases using sgd...\n",
      "Estimating biases using sgd...\n",
      "Estimating biases using sgd...\n",
      "Estimating biases using sgd...\n",
      "Estimating biases using sgd...\n",
      "Estimating biases using sgd...\n",
      "Estimating biases using sgd...\n",
      "Estimating biases using sgd...\n",
      "Estimating biases using sgd...\n",
      "Estimating biases using sgd...\n",
      "Estimating biases using sgd...\n",
      "Estimating biases using sgd...\n",
      "Estimating biases using sgd...\n",
      "Estimating biases using sgd...\n",
      "Estimating biases using sgd...\n",
      "Estimating biases using sgd...\n",
      "Estimating biases using sgd...\n",
      "Estimating biases using sgd...\n",
      "Estimating biases using sgd...\n",
      "Estimating biases using sgd...\n",
      "Estimating biases using sgd...\n",
      "Estimating biases using sgd...\n",
      "Estimating biases using sgd...\n",
      "Estimating biases using sgd...\n",
      "Estimating biases using sgd...\n",
      "Estimating biases using sgd...\n",
      "Estimating biases using sgd...\n",
      "Estimating biases using sgd...\n",
      "Estimating biases using sgd...\n",
      "Estimating biases using sgd...\n",
      "Estimating biases using sgd...\n",
      "Estimating biases using sgd...\n",
      "Estimating biases using sgd...\n",
      "Estimating biases using sgd...\n",
      "Estimating biases using sgd...\n",
      "Estimating biases using sgd...\n",
      "Estimating biases using sgd...\n",
      "Estimating biases using sgd...\n",
      "Estimating biases using sgd...\n",
      "Estimating biases using sgd...\n",
      "Estimating biases using sgd...\n",
      "Estimating biases using sgd...\n",
      "Estimating biases using sgd...\n",
      "Estimating biases using sgd...\n",
      "Estimating biases using sgd...\n",
      "Estimating biases using sgd...\n",
      "Estimating biases using sgd...\n",
      "Estimating biases using sgd...\n",
      "Estimating biases using sgd...\n",
      "Estimating biases using sgd...\n",
      "Estimating biases using sgd...\n",
      "Estimating biases using sgd...\n",
      "Estimating biases using sgd...\n",
      "Estimating biases using sgd...\n",
      "Estimating biases using sgd...\n",
      "Estimating biases using sgd...\n",
      "Estimating biases using sgd...\n",
      "Estimating biases using sgd...\n",
      "Estimating biases using sgd...\n",
      "Estimating biases using sgd...\n",
      "Estimating biases using sgd...\n",
      "Estimating biases using sgd...\n",
      "Estimating biases using sgd...\n",
      "Estimating biases using sgd...\n",
      "Estimating biases using sgd...\n",
      "Estimating biases using sgd...\n",
      "Estimating biases using sgd...\n",
      "Estimating biases using sgd...\n",
      "Estimating biases using sgd...\n"
     ]
    }
   ],
   "source": [
    "from surprise.model_selection import GridSearchCV\n",
    "\n",
    "param_grid = {'bsl_options': {'method': ['sgd'],\n",
    "                              'n_epoch':[5, 20, 40],\n",
    "                              'reg': [ 0.01, 0.02, 0.04], # lambda 2\n",
    "                              'learning_rate': [ 0.005,0.01, 0.05 ],# lambda 3\n",
    "                             }   \n",
    "             }\n",
    "grid = GridSearchCV(surprise.BaselineOnly, param_grid, measures=['rmse','mae'], cv=3, return_train_measures=True, n_jobs=1)\n",
    "grid.fit(data)"
   ]
  },
  {
   "cell_type": "code",
   "execution_count": 229,
   "id": "b661ca32",
   "metadata": {},
   "outputs": [
    {
     "name": "stdout",
     "output_type": "stream",
     "text": [
      "0.766643041478439\n",
      "{'bsl_options': {'method': 'sgd', 'n_epoch': 5, 'reg': 0.01, 'learning_rate': 0.01}}\n",
      "0.5878028592415215\n",
      "{'bsl_options': {'method': 'sgd', 'n_epoch': 5, 'reg': 0.01, 'learning_rate': 0.01}}\n"
     ]
    }
   ],
   "source": [
    "print(grid.best_score['rmse'])\n",
    "print(grid.best_params['rmse'])\n",
    "print(grid.best_score['mae'])\n",
    "print(grid.best_params['mae'])"
   ]
  },
  {
   "cell_type": "code",
   "execution_count": 230,
   "id": "fe00abe2",
   "metadata": {
    "scrolled": true
   },
   "outputs": [
    {
     "name": "stdout",
     "output_type": "stream",
     "text": [
      "Estimating biases using sgd...\n",
      "RMSE: 0.7613\n",
      "Estimating biases using sgd...\n",
      "RMSE: 0.7859\n",
      "Estimating biases using sgd...\n",
      "RMSE: 0.7750\n"
     ]
    }
   ],
   "source": [
    "from surprise.model_selection import KFold\n",
    "np.random.seed(0)\n",
    "\n",
    "bsl_options = {\n",
    "    'method': 'sgd',\n",
    "    'n_epoch': 5,\n",
    "    'reg' : 0.01,\n",
    "    'learning_rate': 0.01\n",
    "}\n",
    "algo = surprise.BaselineOnly(bsl_options=bsl_options)\n",
    "\n",
    "acc = np.zeros(3)\n",
    "cv = KFold(3)\n",
    "for i , (trainset, testset) in enumerate(cv.split(data)):\n",
    "    algo.fit(trainset)\n",
    "    predictions = algo.test(testset)\n",
    "    acc[i] = surprise.accuracy.rmse(predictions, verbose=True)\n",
    "    "
   ]
  },
  {
   "cell_type": "code",
   "execution_count": 231,
   "id": "99fea2f7",
   "metadata": {},
   "outputs": [
    {
     "name": "stdout",
     "output_type": "stream",
     "text": [
      "0.7740867997014919\n"
     ]
    }
   ],
   "source": [
    "print(acc.mean())"
   ]
  },
  {
   "cell_type": "code",
   "execution_count": 232,
   "id": "f900c9ac",
   "metadata": {
    "scrolled": true
   },
   "outputs": [
    {
     "name": "stdout",
     "output_type": "stream",
     "text": [
      "Estimating biases using sgd...\n",
      "Estimating biases using sgd...\n",
      "Estimating biases using sgd...\n",
      "Estimating biases using sgd...\n",
      "Estimating biases using sgd...\n",
      "{'test_rmse': array([0.77068399, 0.78789515, 0.75159092, 0.77947513, 0.74461039]), 'test_mae': array([0.59536022, 0.58582899, 0.57394268, 0.60462795, 0.58031152]), 'fit_time': (0.01686835289001465, 0.019999265670776367, 0.012998580932617188, 0.012997150421142578, 0.011997222900390625), 'test_time': (0.005001544952392578, 0.00400543212890625, 0.0029993057250976562, 0.003000497817993164, 0.004000425338745117)}\n"
     ]
    }
   ],
   "source": [
    "from surprise.model_selection import cross_validate\n",
    "\n",
    "print(cross_validate(algo, data))"
   ]
  },
  {
   "cell_type": "markdown",
   "id": "5b790cc5",
   "metadata": {},
   "source": [
    "### KNN BASIC"
   ]
  },
  {
   "cell_type": "code",
   "execution_count": 233,
   "id": "4900c41f",
   "metadata": {},
   "outputs": [
    {
     "name": "stdout",
     "output_type": "stream",
     "text": [
      "Computing the msd similarity matrix...\n",
      "Done computing similarity matrix.\n",
      "Computing the msd similarity matrix...\n",
      "Done computing similarity matrix.\n",
      "Computing the msd similarity matrix...\n",
      "Done computing similarity matrix.\n",
      "Computing the msd similarity matrix...\n",
      "Done computing similarity matrix.\n",
      "Computing the msd similarity matrix...\n",
      "Done computing similarity matrix.\n",
      "{'test_rmse': array([0.93607561, 0.82466644, 0.86670101, 0.88222266, 0.87586386]), 'test_mae': array([0.70236058, 0.65091629, 0.67742185, 0.67822134, 0.67232873]), 'fit_time': (0.08550119400024414, 0.06399750709533691, 0.060997962951660156, 0.06202220916748047, 0.0659787654876709), 'test_time': (0.02200031280517578, 0.022002696990966797, 0.025002241134643555, 0.021016597747802734, 0.028001785278320312)}\n"
     ]
    }
   ],
   "source": [
    "sim_options = {'name': 'msd'}  #유사도 측정 : msd\n",
    "algo = surprise.KNNBasic(sim_options=sim_options)\n",
    "\n",
    "print(cross_validate(algo, data))"
   ]
  },
  {
   "cell_type": "code",
   "execution_count": 234,
   "id": "632c757b",
   "metadata": {},
   "outputs": [
    {
     "name": "stdout",
     "output_type": "stream",
     "text": [
      "Computing the msd similarity matrix...\n",
      "Done computing similarity matrix.\n",
      "Computing the msd similarity matrix...\n",
      "Done computing similarity matrix.\n",
      "Computing the msd similarity matrix...\n",
      "Done computing similarity matrix.\n",
      "Computing the msd similarity matrix...\n",
      "Done computing similarity matrix.\n",
      "Computing the msd similarity matrix...\n",
      "Done computing similarity matrix.\n",
      "{'test_rmse': array([0.8898848 , 0.84549539, 0.89951839, 0.88560569, 0.87919871]), 'test_mae': array([0.68125542, 0.6459427 , 0.70533928, 0.67663116, 0.6759296 ]), 'fit_time': (0.0699927806854248, 0.06398797035217285, 0.05998539924621582, 0.05897712707519531, 0.06602716445922852), 'test_time': (0.024030447006225586, 0.022014856338500977, 0.02101445198059082, 0.020974159240722656, 0.021013259887695312)}\n"
     ]
    }
   ],
   "source": [
    "sim_option = {'name': 'cosine'}  #유사도 측정: cosine\n",
    "algo = surprise.KNNBasic(sim_options=sim_options)\n",
    "print(cross_validate(algo, data))"
   ]
  },
  {
   "cell_type": "code",
   "execution_count": 235,
   "id": "4ecfea64",
   "metadata": {},
   "outputs": [
    {
     "name": "stdout",
     "output_type": "stream",
     "text": [
      "Computing the msd similarity matrix...\n",
      "Done computing similarity matrix.\n",
      "Computing the msd similarity matrix...\n",
      "Done computing similarity matrix.\n",
      "Computing the msd similarity matrix...\n",
      "Done computing similarity matrix.\n",
      "Computing the msd similarity matrix...\n",
      "Done computing similarity matrix.\n",
      "Computing the msd similarity matrix...\n",
      "Done computing similarity matrix.\n",
      "{'test_rmse': array([0.86337074, 0.91472394, 0.89814456, 0.85840937, 0.8572379 ]), 'test_mae': array([0.66627919, 0.69101941, 0.68451505, 0.66118693, 0.67734568]), 'fit_time': (0.06699705123901367, 0.06298422813415527, 0.06098151206970215, 0.06895899772644043, 0.062035322189331055), 'test_time': (0.022037744522094727, 0.021014928817749023, 0.021015167236328125, 0.023064613342285156, 0.02096414566040039)}\n"
     ]
    }
   ],
   "source": [
    "sim_option= {'name': 'pearson'}  #유사도 측정: pearson\n",
    "algo = surprise.KNNBasic(sim_options=sim_options)\n",
    "print(cross_validate(algo, data))"
   ]
  },
  {
   "cell_type": "code",
   "execution_count": 236,
   "id": "1b278080",
   "metadata": {},
   "outputs": [
    {
     "name": "stdout",
     "output_type": "stream",
     "text": [
      "Estimating biases using als...\n",
      "Computing the pearson_baseline similarity matrix...\n",
      "Done computing similarity matrix.\n",
      "Estimating biases using als...\n",
      "Computing the pearson_baseline similarity matrix...\n",
      "Done computing similarity matrix.\n",
      "Estimating biases using als...\n",
      "Computing the pearson_baseline similarity matrix...\n",
      "Done computing similarity matrix.\n",
      "Estimating biases using als...\n",
      "Computing the pearson_baseline similarity matrix...\n",
      "Done computing similarity matrix.\n",
      "Estimating biases using als...\n",
      "Computing the pearson_baseline similarity matrix...\n",
      "Done computing similarity matrix.\n"
     ]
    },
    {
     "data": {
      "text/plain": [
       "{'test_rmse': array([0.91769538, 0.92704183, 0.87248623, 0.89833004, 0.89433496]),\n",
       " 'test_mae': array([0.70800946, 0.7260763 , 0.6685049 , 0.70343503, 0.70173514]),\n",
       " 'fit_time': (0.11081171035766602,\n",
       "  0.09899020195007324,\n",
       "  0.09598541259765625,\n",
       "  0.09698605537414551,\n",
       "  0.0969550609588623),\n",
       " 'test_time': (0.019017457962036133,\n",
       "  0.017004966735839844,\n",
       "  0.017013072967529297,\n",
       "  0.017008543014526367,\n",
       "  0.018999338150024414)}"
      ]
     },
     "execution_count": 236,
     "metadata": {},
     "output_type": "execute_result"
    }
   ],
   "source": [
    "sim_options = {'name': 'pearson_baseline'} #유사도 측정: pearson_baseline\n",
    "algo = surprise.KNNBasic(sim_options= sim_options)\n",
    "cross_validate(algo, data)"
   ]
  },
  {
   "cell_type": "markdown",
   "id": "f892d7e0",
   "metadata": {},
   "source": [
    "### KNNWithMeans"
   ]
  },
  {
   "cell_type": "code",
   "execution_count": 237,
   "id": "3c53e3be",
   "metadata": {},
   "outputs": [
    {
     "name": "stdout",
     "output_type": "stream",
     "text": [
      "Computing the msd similarity matrix...\n",
      "Done computing similarity matrix.\n",
      "Computing the msd similarity matrix...\n",
      "Done computing similarity matrix.\n",
      "Computing the msd similarity matrix...\n",
      "Done computing similarity matrix.\n",
      "Computing the msd similarity matrix...\n",
      "Done computing similarity matrix.\n",
      "Computing the msd similarity matrix...\n",
      "Done computing similarity matrix.\n"
     ]
    },
    {
     "data": {
      "text/plain": [
       "{'test_rmse': array([0.90528305, 0.9598689 , 0.87516894, 0.91045539, 0.91492005]),\n",
       " 'test_mae': array([0.68470035, 0.72745111, 0.68038754, 0.70247613, 0.71391285]),\n",
       " 'fit_time': (0.08411526679992676,\n",
       "  0.07900118827819824,\n",
       "  0.07999920845031738,\n",
       "  0.0840001106262207,\n",
       "  0.08000040054321289),\n",
       " 'test_time': (0.05800223350524902,\n",
       "  0.0209958553314209,\n",
       "  0.021002531051635742,\n",
       "  0.022003173828125,\n",
       "  0.02300095558166504)}"
      ]
     },
     "execution_count": 237,
     "metadata": {},
     "output_type": "execute_result"
    }
   ],
   "source": [
    "sim_options = {'name': 'msd'}\n",
    "algo = surprise.KNNWithMeans(sim_options = sim_options)\n",
    "cross_validate(algo, data)"
   ]
  },
  {
   "cell_type": "code",
   "execution_count": 238,
   "id": "e4601ba7",
   "metadata": {},
   "outputs": [
    {
     "name": "stdout",
     "output_type": "stream",
     "text": [
      "Computing the cosine similarity matrix...\n",
      "Done computing similarity matrix.\n",
      "Computing the cosine similarity matrix...\n",
      "Done computing similarity matrix.\n",
      "Computing the cosine similarity matrix...\n",
      "Done computing similarity matrix.\n",
      "Computing the cosine similarity matrix...\n",
      "Done computing similarity matrix.\n",
      "Computing the cosine similarity matrix...\n",
      "Done computing similarity matrix.\n"
     ]
    },
    {
     "data": {
      "text/plain": [
       "{'test_rmse': array([0.91083111, 0.97932439, 0.87047234, 0.91139201, 0.88307117]),\n",
       " 'test_mae': array([0.70756015, 0.73850223, 0.68844615, 0.69504182, 0.67009648]),\n",
       " 'fit_time': (0.15896940231323242,\n",
       "  0.15299749374389648,\n",
       "  0.14220595359802246,\n",
       "  0.14899325370788574,\n",
       "  0.14199352264404297),\n",
       " 'test_time': (0.023001909255981445,\n",
       "  0.023001432418823242,\n",
       "  0.021013259887695312,\n",
       "  0.02200627326965332,\n",
       "  0.02200460433959961)}"
      ]
     },
     "execution_count": 238,
     "metadata": {},
     "output_type": "execute_result"
    }
   ],
   "source": [
    "sim_options = {'name': 'cosine'}\n",
    "algo = surprise.KNNWithMeans(sim_options = sim_options)\n",
    "cross_validate(algo, data)"
   ]
  },
  {
   "cell_type": "code",
   "execution_count": 239,
   "id": "f0b400e1",
   "metadata": {},
   "outputs": [
    {
     "name": "stdout",
     "output_type": "stream",
     "text": [
      "Computing the pearson similarity matrix...\n",
      "Done computing similarity matrix.\n",
      "Computing the pearson similarity matrix...\n",
      "Done computing similarity matrix.\n",
      "Computing the pearson similarity matrix...\n",
      "Done computing similarity matrix.\n",
      "Computing the pearson similarity matrix...\n",
      "Done computing similarity matrix.\n",
      "Computing the pearson similarity matrix...\n",
      "Done computing similarity matrix.\n"
     ]
    },
    {
     "data": {
      "text/plain": [
       "{'test_rmse': array([0.96070781, 0.95711471, 0.92339026, 0.97036565, 0.93421373]),\n",
       " 'test_mae': array([0.73262212, 0.72943342, 0.7161717 , 0.73179583, 0.72881034]),\n",
       " 'fit_time': (0.22306370735168457,\n",
       "  0.1900026798248291,\n",
       "  0.18700432777404785,\n",
       "  0.1889951229095459,\n",
       "  0.1929924488067627),\n",
       " 'test_time': (0.02600240707397461,\n",
       "  0.021031618118286133,\n",
       "  0.018001556396484375,\n",
       "  0.01801300048828125,\n",
       "  0.017001867294311523)}"
      ]
     },
     "execution_count": 239,
     "metadata": {},
     "output_type": "execute_result"
    }
   ],
   "source": [
    "sim_options = {'name': 'pearson'}\n",
    "algo = surprise.KNNWithMeans(sim_options = sim_options)\n",
    "cross_validate(algo, data)"
   ]
  },
  {
   "cell_type": "code",
   "execution_count": 240,
   "id": "3fc6a96a",
   "metadata": {},
   "outputs": [
    {
     "name": "stdout",
     "output_type": "stream",
     "text": [
      "Estimating biases using als...\n",
      "Computing the pearson_baseline similarity matrix...\n",
      "Done computing similarity matrix.\n",
      "Estimating biases using als...\n",
      "Computing the pearson_baseline similarity matrix...\n",
      "Done computing similarity matrix.\n",
      "Estimating biases using als...\n",
      "Computing the pearson_baseline similarity matrix...\n",
      "Done computing similarity matrix.\n",
      "Estimating biases using als...\n",
      "Computing the pearson_baseline similarity matrix...\n",
      "Done computing similarity matrix.\n",
      "Estimating biases using als...\n",
      "Computing the pearson_baseline similarity matrix...\n",
      "Done computing similarity matrix.\n"
     ]
    },
    {
     "data": {
      "text/plain": [
       "{'test_rmse': array([0.94026441, 0.92554401, 0.90311116, 0.96004864, 0.9976594 ]),\n",
       " 'test_mae': array([0.7238345 , 0.70832913, 0.69094684, 0.72484311, 0.77137111]),\n",
       " 'fit_time': (0.13103127479553223,\n",
       "  0.11399292945861816,\n",
       "  0.11600184440612793,\n",
       "  0.11599349975585938,\n",
       "  0.11598062515258789),\n",
       " 'test_time': (0.019002676010131836,\n",
       "  0.02400064468383789,\n",
       "  0.01700448989868164,\n",
       "  0.018004655838012695,\n",
       "  0.021990299224853516)}"
      ]
     },
     "execution_count": 240,
     "metadata": {},
     "output_type": "execute_result"
    }
   ],
   "source": [
    "sim_options = {'name': 'pearson_baseline'}\n",
    "algo = surprise.KNNWithMeans(sim_options = sim_options)\n",
    "cross_validate(algo, data)"
   ]
  },
  {
   "cell_type": "markdown",
   "id": "56c5ff18",
   "metadata": {},
   "source": [
    "###  KNNWithZScore"
   ]
  },
  {
   "cell_type": "code",
   "execution_count": 241,
   "id": "8f88a811",
   "metadata": {},
   "outputs": [
    {
     "name": "stdout",
     "output_type": "stream",
     "text": [
      "Computing the msd similarity matrix...\n",
      "Done computing similarity matrix.\n",
      "Computing the msd similarity matrix...\n",
      "Done computing similarity matrix.\n",
      "Computing the msd similarity matrix...\n",
      "Done computing similarity matrix.\n",
      "Computing the msd similarity matrix...\n",
      "Done computing similarity matrix.\n",
      "Computing the msd similarity matrix...\n",
      "Done computing similarity matrix.\n"
     ]
    },
    {
     "data": {
      "text/plain": [
       "{'test_rmse': array([0.90400231, 0.92794877, 0.9337901 , 0.91344189, 0.92876492]),\n",
       " 'test_mae': array([0.69488347, 0.70232509, 0.70842515, 0.69854966, 0.72004767]),\n",
       " 'fit_time': (0.1345076560974121,\n",
       "  0.12298297882080078,\n",
       "  0.12498259544372559,\n",
       "  0.12900376319885254,\n",
       "  0.12599921226501465),\n",
       " 'test_time': (0.0240323543548584,\n",
       "  0.02301502227783203,\n",
       "  0.024975299835205078,\n",
       "  0.023996829986572266,\n",
       "  0.02596426010131836)}"
      ]
     },
     "execution_count": 241,
     "metadata": {},
     "output_type": "execute_result"
    }
   ],
   "source": [
    "sim_options = {'name': 'msd'}\n",
    "algo = surprise.KNNWithZScore(sim_options = sim_options)\n",
    "cross_validate(algo, data)"
   ]
  },
  {
   "cell_type": "code",
   "execution_count": 242,
   "id": "1d0350d6",
   "metadata": {},
   "outputs": [
    {
     "name": "stdout",
     "output_type": "stream",
     "text": [
      "Computing the cosine similarity matrix...\n",
      "Done computing similarity matrix.\n",
      "Computing the cosine similarity matrix...\n",
      "Done computing similarity matrix.\n",
      "Computing the cosine similarity matrix...\n",
      "Done computing similarity matrix.\n",
      "Computing the cosine similarity matrix...\n",
      "Done computing similarity matrix.\n",
      "Computing the cosine similarity matrix...\n",
      "Done computing similarity matrix.\n"
     ]
    },
    {
     "data": {
      "text/plain": [
       "{'test_rmse': array([0.8942109 , 0.93959238, 0.86216404, 0.96704759, 0.88791878]),\n",
       " 'test_mae': array([0.68171219, 0.70779742, 0.6856527 , 0.73555257, 0.68454815]),\n",
       " 'fit_time': (0.19602227210998535,\n",
       "  0.1879568099975586,\n",
       "  0.1869652271270752,\n",
       "  0.19395995140075684,\n",
       "  0.20104146003723145),\n",
       " 'test_time': (0.024013996124267578,\n",
       "  0.02704024314880371,\n",
       "  0.024042129516601562,\n",
       "  0.0249941349029541,\n",
       "  0.024000883102416992)}"
      ]
     },
     "execution_count": 242,
     "metadata": {},
     "output_type": "execute_result"
    }
   ],
   "source": [
    "sim_options = {'name': 'cosine'}\n",
    "algo = surprise.KNNWithZScore(sim_options = sim_options)\n",
    "cross_validate(algo, data)"
   ]
  },
  {
   "cell_type": "code",
   "execution_count": 243,
   "id": "649ecb23",
   "metadata": {},
   "outputs": [
    {
     "name": "stdout",
     "output_type": "stream",
     "text": [
      "Computing the pearson similarity matrix...\n",
      "Done computing similarity matrix.\n",
      "Computing the pearson similarity matrix...\n",
      "Done computing similarity matrix.\n",
      "Computing the pearson similarity matrix...\n",
      "Done computing similarity matrix.\n",
      "Computing the pearson similarity matrix...\n",
      "Done computing similarity matrix.\n",
      "Computing the pearson similarity matrix...\n",
      "Done computing similarity matrix.\n"
     ]
    },
    {
     "data": {
      "text/plain": [
       "{'test_rmse': array([0.96828451, 0.97591526, 0.86024857, 0.95740082, 0.96008973]),\n",
       " 'test_mae': array([0.73813002, 0.75563264, 0.67379286, 0.72078504, 0.75681711]),\n",
       " 'fit_time': (0.24907279014587402,\n",
       "  0.22798919677734375,\n",
       "  0.2359607219696045,\n",
       "  0.23703384399414062,\n",
       "  0.2340233325958252),\n",
       " 'test_time': (0.020975112915039062,\n",
       "  0.021013736724853516,\n",
       "  0.020997047424316406,\n",
       "  0.022030353546142578,\n",
       "  0.018010854721069336)}"
      ]
     },
     "execution_count": 243,
     "metadata": {},
     "output_type": "execute_result"
    }
   ],
   "source": [
    "sim_options = {'name': 'pearson'}\n",
    "algo = surprise.KNNWithZScore(sim_options = sim_options)\n",
    "cross_validate(algo, data)"
   ]
  },
  {
   "cell_type": "code",
   "execution_count": 244,
   "id": "faeea9ef",
   "metadata": {},
   "outputs": [
    {
     "name": "stdout",
     "output_type": "stream",
     "text": [
      "Estimating biases using als...\n",
      "Computing the pearson_baseline similarity matrix...\n",
      "Done computing similarity matrix.\n",
      "Estimating biases using als...\n",
      "Computing the pearson_baseline similarity matrix...\n",
      "Done computing similarity matrix.\n",
      "Estimating biases using als...\n",
      "Computing the pearson_baseline similarity matrix...\n",
      "Done computing similarity matrix.\n",
      "Estimating biases using als...\n",
      "Computing the pearson_baseline similarity matrix...\n",
      "Done computing similarity matrix.\n",
      "Estimating biases using als...\n",
      "Computing the pearson_baseline similarity matrix...\n",
      "Done computing similarity matrix.\n"
     ]
    },
    {
     "data": {
      "text/plain": [
       "{'test_rmse': array([0.93872295, 0.96060245, 0.92730329, 0.90844275, 0.95988952]),\n",
       " 'test_mae': array([0.73095606, 0.73297206, 0.71970119, 0.69260181, 0.72831546]),\n",
       " 'fit_time': (0.15725326538085938,\n",
       "  0.15897083282470703,\n",
       "  0.1700294017791748,\n",
       "  0.16202354431152344,\n",
       "  0.15598249435424805),\n",
       " 'test_time': (0.0200042724609375,\n",
       "  0.019999980926513672,\n",
       "  0.018999338150024414,\n",
       "  0.01901531219482422,\n",
       "  0.018012285232543945)}"
      ]
     },
     "execution_count": 244,
     "metadata": {},
     "output_type": "execute_result"
    }
   ],
   "source": [
    "sim_options = {'name': 'pearson_baseline'}\n",
    "algo = surprise.KNNWithZScore(sim_options = sim_options)\n",
    "cross_validate(algo, data)"
   ]
  },
  {
   "cell_type": "markdown",
   "id": "822e92fd",
   "metadata": {},
   "source": [
    "### KNNBaseLine"
   ]
  },
  {
   "cell_type": "code",
   "execution_count": 245,
   "id": "c669b66e",
   "metadata": {},
   "outputs": [
    {
     "name": "stdout",
     "output_type": "stream",
     "text": [
      "Estimating biases using als...\n",
      "Computing the msd similarity matrix...\n",
      "Done computing similarity matrix.\n",
      "Estimating biases using als...\n",
      "Computing the msd similarity matrix...\n",
      "Done computing similarity matrix.\n",
      "Estimating biases using als...\n",
      "Computing the msd similarity matrix...\n",
      "Done computing similarity matrix.\n",
      "Estimating biases using als...\n",
      "Computing the msd similarity matrix...\n",
      "Done computing similarity matrix.\n",
      "Estimating biases using als...\n",
      "Computing the msd similarity matrix...\n",
      "Done computing similarity matrix.\n"
     ]
    },
    {
     "data": {
      "text/plain": [
       "{'test_rmse': array([0.79444875, 0.77989678, 0.78886336, 0.79942566, 0.81375735]),\n",
       " 'test_mae': array([0.61925938, 0.59118984, 0.6143704 , 0.60958042, 0.61548925]),\n",
       " 'fit_time': (0.06999921798706055,\n",
       "  0.06698465347290039,\n",
       "  0.06598162651062012,\n",
       "  0.06802058219909668,\n",
       "  0.06998419761657715),\n",
       " 'test_time': (0.024994850158691406,\n",
       "  0.02501511573791504,\n",
       "  0.027976036071777344,\n",
       "  0.02401447296142578,\n",
       "  0.025014877319335938)}"
      ]
     },
     "execution_count": 245,
     "metadata": {},
     "output_type": "execute_result"
    }
   ],
   "source": [
    "sim_options = {'name': 'msd'}\n",
    "algo = surprise.KNNBaseline(sim_options = sim_options)\n",
    "cross_validate(algo, data)"
   ]
  },
  {
   "cell_type": "code",
   "execution_count": 246,
   "id": "d35cbd3b",
   "metadata": {},
   "outputs": [
    {
     "name": "stdout",
     "output_type": "stream",
     "text": [
      "Estimating biases using als...\n",
      "Computing the cosine similarity matrix...\n",
      "Done computing similarity matrix.\n",
      "Estimating biases using als...\n",
      "Computing the cosine similarity matrix...\n",
      "Done computing similarity matrix.\n",
      "Estimating biases using als...\n",
      "Computing the cosine similarity matrix...\n",
      "Done computing similarity matrix.\n",
      "Estimating biases using als...\n",
      "Computing the cosine similarity matrix...\n",
      "Done computing similarity matrix.\n",
      "Estimating biases using als...\n",
      "Computing the cosine similarity matrix...\n",
      "Done computing similarity matrix.\n"
     ]
    },
    {
     "data": {
      "text/plain": [
       "{'test_rmse': array([0.78649286, 0.84740792, 0.78872214, 0.82121007, 0.77737092]),\n",
       " 'test_mae': array([0.60183202, 0.63916385, 0.60515633, 0.62847628, 0.60943123]),\n",
       " 'fit_time': (0.1490027904510498,\n",
       "  0.13099908828735352,\n",
       "  0.13111090660095215,\n",
       "  0.13395953178405762,\n",
       "  0.13098478317260742),\n",
       " 'test_time': (0.026997089385986328,\n",
       "  0.027995824813842773,\n",
       "  0.023045778274536133,\n",
       "  0.023041248321533203,\n",
       "  0.024015188217163086)}"
      ]
     },
     "execution_count": 246,
     "metadata": {},
     "output_type": "execute_result"
    }
   ],
   "source": [
    "sim_options = {'name': 'cosine'}\n",
    "algo = surprise.KNNBaseline(sim_options = sim_options)\n",
    "cross_validate(algo, data)"
   ]
  },
  {
   "cell_type": "code",
   "execution_count": 247,
   "id": "ccd72289",
   "metadata": {},
   "outputs": [
    {
     "name": "stdout",
     "output_type": "stream",
     "text": [
      "Estimating biases using als...\n",
      "Computing the pearson similarity matrix...\n",
      "Done computing similarity matrix.\n",
      "Estimating biases using als...\n",
      "Computing the pearson similarity matrix...\n",
      "Done computing similarity matrix.\n",
      "Estimating biases using als...\n",
      "Computing the pearson similarity matrix...\n",
      "Done computing similarity matrix.\n",
      "Estimating biases using als...\n",
      "Computing the pearson similarity matrix...\n",
      "Done computing similarity matrix.\n",
      "Estimating biases using als...\n",
      "Computing the pearson similarity matrix...\n",
      "Done computing similarity matrix.\n"
     ]
    },
    {
     "data": {
      "text/plain": [
       "{'test_rmse': array([0.83240656, 0.77428217, 0.77879064, 0.78001591, 0.8297721 ]),\n",
       " 'test_mae': array([0.63524499, 0.61529125, 0.60663302, 0.60503205, 0.62946353]),\n",
       " 'fit_time': (0.18852996826171875,\n",
       "  0.18410682678222656,\n",
       "  0.19051504135131836,\n",
       "  0.18300104141235352,\n",
       "  0.18374967575073242),\n",
       " 'test_time': (0.02326488494873047,\n",
       "  0.023998022079467773,\n",
       "  0.022005558013916016,\n",
       "  0.018998146057128906,\n",
       "  0.024005413055419922)}"
      ]
     },
     "execution_count": 247,
     "metadata": {},
     "output_type": "execute_result"
    }
   ],
   "source": [
    "sim_options = {'name': 'pearson'}\n",
    "algo = surprise.KNNBaseline(sim_options = sim_options)\n",
    "cross_validate(algo, data)"
   ]
  },
  {
   "cell_type": "code",
   "execution_count": 248,
   "id": "7f0242a0",
   "metadata": {},
   "outputs": [
    {
     "name": "stdout",
     "output_type": "stream",
     "text": [
      "Estimating biases using als...\n",
      "Computing the pearson_baseline similarity matrix...\n",
      "Done computing similarity matrix.\n",
      "Estimating biases using als...\n",
      "Computing the pearson_baseline similarity matrix...\n",
      "Done computing similarity matrix.\n",
      "Estimating biases using als...\n",
      "Computing the pearson_baseline similarity matrix...\n",
      "Done computing similarity matrix.\n",
      "Estimating biases using als...\n",
      "Computing the pearson_baseline similarity matrix...\n",
      "Done computing similarity matrix.\n",
      "Estimating biases using als...\n",
      "Computing the pearson_baseline similarity matrix...\n",
      "Done computing similarity matrix.\n"
     ]
    },
    {
     "data": {
      "text/plain": [
       "{'test_rmse': array([0.82516623, 0.85333893, 0.80039054, 0.7767213 , 0.77721141]),\n",
       " 'test_mae': array([0.63883948, 0.63200505, 0.6117735 , 0.60550083, 0.60644667]),\n",
       " 'fit_time': (0.10399985313415527,\n",
       "  0.09699487686157227,\n",
       "  0.09898948669433594,\n",
       "  0.0969853401184082,\n",
       "  0.10198688507080078),\n",
       " 'test_time': (0.021027803421020508,\n",
       "  0.02201247215270996,\n",
       "  0.019021034240722656,\n",
       "  0.020016908645629883,\n",
       "  0.017971038818359375)}"
      ]
     },
     "execution_count": 248,
     "metadata": {},
     "output_type": "execute_result"
    }
   ],
   "source": [
    "sim_options = {'name': 'pearson_baseline'}\n",
    "algo = surprise.KNNBaseline(sim_options = sim_options)\n",
    "cross_validate(algo, data)"
   ]
  },
  {
   "cell_type": "markdown",
   "id": "c36635c1",
   "metadata": {},
   "source": [
    "### SVD"
   ]
  },
  {
   "cell_type": "code",
   "execution_count": 254,
   "id": "bcd451bd",
   "metadata": {},
   "outputs": [],
   "source": [
    "from surprise.model_selection import GridSearchCV\n",
    "\n",
    "param_grid = {'n_epochs':[20, 40,60,80], 'n_factors': [20,50, 100]}\n",
    "\n",
    "grid = GridSearchCV(surprise.SVD, param_grid=param_grid,\n",
    "                   measures=['rmse','mae'], cv=3)\n",
    "\n",
    "grid.fit(data)"
   ]
  },
  {
   "cell_type": "code",
   "execution_count": 255,
   "id": "c1fd54f7",
   "metadata": {},
   "outputs": [
    {
     "name": "stdout",
     "output_type": "stream",
     "text": [
      "0.7720170576681551\n",
      "{'n_epochs': 40, 'n_factors': 20}\n",
      "0.5946988331472522\n",
      "{'n_epochs': 40, 'n_factors': 20}\n"
     ]
    }
   ],
   "source": [
    "print(grid.best_score['rmse'])\n",
    "print(grid.best_params['rmse'])\n",
    "print(grid.best_score['mae'])\n",
    "print(grid.best_params['mae'])"
   ]
  },
  {
   "cell_type": "code",
   "execution_count": 256,
   "id": "a757d5c5",
   "metadata": {},
   "outputs": [
    {
     "data": {
      "text/plain": [
       "{'test_rmse': array([0.72008506, 0.76897145, 0.81910697, 0.78004194, 0.73158911]),\n",
       " 'test_mae': array([0.5713751 , 0.59412622, 0.61314815, 0.59464635, 0.56834826]),\n",
       " 'fit_time': (0.13113903999328613,\n",
       "  0.10203981399536133,\n",
       "  0.10399889945983887,\n",
       "  0.10699915885925293,\n",
       "  0.10719633102416992),\n",
       " 'test_time': (0.004000186920166016,\n",
       "  0.003995418548583984,\n",
       "  0.004000663757324219,\n",
       "  0.003995180130004883,\n",
       "  0.003995418548583984)}"
      ]
     },
     "execution_count": 256,
     "metadata": {},
     "output_type": "execute_result"
    }
   ],
   "source": [
    "sim_options = {'name': 'msd'}\n",
    "algo = surprise.SVD(n_factors=20, n_epochs=40)\n",
    "cross_validate(algo, data)"
   ]
  },
  {
   "cell_type": "code",
   "execution_count": 257,
   "id": "99b2b6be",
   "metadata": {},
   "outputs": [
    {
     "data": {
      "text/plain": [
       "{'test_rmse': array([0.75538004, 0.75090379, 0.78926361, 0.78587657, 0.74967864]),\n",
       " 'test_mae': array([0.57724145, 0.57833975, 0.61421276, 0.5995082 , 0.58040606]),\n",
       " 'fit_time': (0.11661958694458008,\n",
       "  0.11099648475646973,\n",
       "  0.11398983001708984,\n",
       "  0.1150364875793457,\n",
       "  0.1049652099609375),\n",
       " 'test_time': (0.004993915557861328,\n",
       "  0.003003358840942383,\n",
       "  0.004002571105957031,\n",
       "  0.003000497817993164,\n",
       "  0.003999471664428711)}"
      ]
     },
     "execution_count": 257,
     "metadata": {},
     "output_type": "execute_result"
    }
   ],
   "source": [
    "sim_options = {'name': 'cosine'}\n",
    "algo = surprise.SVD(n_factors=20, n_epochs=40)\n",
    "cross_validate(algo, data)"
   ]
  },
  {
   "cell_type": "code",
   "execution_count": 258,
   "id": "74dfbb4b",
   "metadata": {},
   "outputs": [
    {
     "data": {
      "text/plain": [
       "{'test_rmse': array([0.76925847, 0.76770053, 0.78414698, 0.78522364, 0.72102632]),\n",
       " 'test_mae': array([0.59714731, 0.59223569, 0.5850628 , 0.606507  , 0.56445851]),\n",
       " 'fit_time': (0.11896371841430664,\n",
       "  0.10299921035766602,\n",
       "  0.10300636291503906,\n",
       "  0.1040031909942627,\n",
       "  0.10300469398498535),\n",
       " 'test_time': (0.003997325897216797,\n",
       "  0.004013538360595703,\n",
       "  0.002992868423461914,\n",
       "  0.003999233245849609,\n",
       "  0.003994464874267578)}"
      ]
     },
     "execution_count": 258,
     "metadata": {},
     "output_type": "execute_result"
    }
   ],
   "source": [
    "sim_options = {'name': 'pearson'}\n",
    "algo = surprise.SVD(n_factors=20, n_epochs=40)\n",
    "cross_validate(algo, data)"
   ]
  },
  {
   "cell_type": "code",
   "execution_count": 259,
   "id": "491c4177",
   "metadata": {
    "scrolled": true
   },
   "outputs": [
    {
     "data": {
      "text/plain": [
       "{'test_rmse': array([0.74798412, 0.79289856, 0.76508045, 0.79476759, 0.74167909]),\n",
       " 'test_mae': array([0.58574973, 0.60742078, 0.58749581, 0.6135663 , 0.56913785]),\n",
       " 'fit_time': (0.12054777145385742,\n",
       "  0.10301065444946289,\n",
       "  0.10377907752990723,\n",
       "  0.11696386337280273,\n",
       "  0.11600041389465332),\n",
       " 'test_time': (0.003996610641479492,\n",
       "  0.003995656967163086,\n",
       "  0.003998517990112305,\n",
       "  0.004001140594482422,\n",
       "  0.004002571105957031)}"
      ]
     },
     "execution_count": 259,
     "metadata": {},
     "output_type": "execute_result"
    }
   ],
   "source": [
    "sim_options = {'name': 'pearson_baseline'}\n",
    "algo = surprise.SVD(n_factors=20, n_epochs=40)\n",
    "cross_validate(algo, data)"
   ]
  },
  {
   "cell_type": "markdown",
   "id": "84727f05",
   "metadata": {},
   "source": [
    "### SVD++"
   ]
  },
  {
   "cell_type": "code",
   "execution_count": 262,
   "id": "0a1ca0f5",
   "metadata": {},
   "outputs": [],
   "source": [
    "from surprise.model_selection import GridSearchCV\n",
    "\n",
    "param_grid = {'n_epochs':[10, 20, 40,50], 'n_factors': [5,10, 20, 40]}\n",
    "\n",
    "grid = GridSearchCV(surprise.SVDpp, param_grid=param_grid,\n",
    "                   measures=['rmse','mae'], cv=3)\n",
    "\n",
    "grid.fit(data)"
   ]
  },
  {
   "cell_type": "code",
   "execution_count": 263,
   "id": "f836db2c",
   "metadata": {},
   "outputs": [
    {
     "name": "stdout",
     "output_type": "stream",
     "text": [
      "0.7748085752104771\n",
      "{'n_epochs': 20, 'n_factors': 5}\n",
      "0.5983571071166912\n",
      "{'n_epochs': 20, 'n_factors': 5}\n"
     ]
    }
   ],
   "source": [
    "print(grid.best_score['rmse'])\n",
    "print(grid.best_params['rmse'])\n",
    "print(grid.best_score['mae'])\n",
    "print(grid.best_params['mae'])"
   ]
  },
  {
   "cell_type": "code",
   "execution_count": 264,
   "id": "8f63a156",
   "metadata": {},
   "outputs": [
    {
     "data": {
      "text/plain": [
       "{'test_rmse': array([0.78732824, 0.77418206, 0.76966074, 0.7566124 , 0.76761296]),\n",
       " 'test_mae': array([0.61358159, 0.60482941, 0.59032444, 0.58653134, 0.58227645]),\n",
       " 'fit_time': (0.21802663803100586,\n",
       "  0.21902060508728027,\n",
       "  0.2189960479736328,\n",
       "  0.22403478622436523,\n",
       "  0.22696661949157715),\n",
       " 'test_time': (0.041001319885253906,\n",
       "  0.006998777389526367,\n",
       "  0.0070002079010009766,\n",
       "  0.0070018768310546875,\n",
       "  0.008000612258911133)}"
      ]
     },
     "execution_count": 264,
     "metadata": {},
     "output_type": "execute_result"
    }
   ],
   "source": [
    "sim_options = {'name': 'msd'}\n",
    "algo = surprise.SVDpp(n_factors=5, n_epochs=20)\n",
    "cross_validate(algo, data)"
   ]
  },
  {
   "cell_type": "code",
   "execution_count": 265,
   "id": "48ace47a",
   "metadata": {
    "scrolled": true
   },
   "outputs": [
    {
     "data": {
      "text/plain": [
       "{'test_rmse': array([0.75828702, 0.77061312, 0.78048783, 0.76490237, 0.79104955]),\n",
       " 'test_mae': array([0.58516717, 0.60481568, 0.60696237, 0.58105897, 0.60600224]),\n",
       " 'fit_time': (0.23155713081359863,\n",
       "  0.22500157356262207,\n",
       "  0.21999859809875488,\n",
       "  0.2279987335205078,\n",
       "  0.23116159439086914),\n",
       " 'test_time': (0.007001161575317383,\n",
       "  0.007999181747436523,\n",
       "  0.007998228073120117,\n",
       "  0.008005142211914062,\n",
       "  0.007967710494995117)}"
      ]
     },
     "execution_count": 265,
     "metadata": {},
     "output_type": "execute_result"
    }
   ],
   "source": [
    "sim_options = {'name': 'cosine'}\n",
    "algo = surprise.SVDpp(n_factors=5, n_epochs=20)\n",
    "cross_validate(algo, data)"
   ]
  },
  {
   "cell_type": "code",
   "execution_count": 267,
   "id": "d74a6b3e",
   "metadata": {},
   "outputs": [
    {
     "data": {
      "text/plain": [
       "{'test_rmse': array([0.75749477, 0.74068355, 0.78268402, 0.81574897, 0.75499583]),\n",
       " 'test_mae': array([0.57622897, 0.57665612, 0.61038615, 0.62161574, 0.58927295]),\n",
       " 'fit_time': (0.2220306396484375,\n",
       "  0.2039964199066162,\n",
       "  0.21999573707580566,\n",
       "  0.2249619960784912,\n",
       "  0.23399686813354492),\n",
       " 'test_time': (0.006999969482421875,\n",
       "  0.007001161575317383,\n",
       "  0.008003711700439453,\n",
       "  0.00700068473815918,\n",
       "  0.008002042770385742)}"
      ]
     },
     "execution_count": 267,
     "metadata": {},
     "output_type": "execute_result"
    }
   ],
   "source": [
    "sim_options = {'name': 'pearson'}\n",
    "algo = surprise.SVDpp(n_factors=5, n_epochs=20)\n",
    "cross_validate(algo, data)"
   ]
  },
  {
   "cell_type": "code",
   "execution_count": 268,
   "id": "e00cca8a",
   "metadata": {
    "scrolled": true
   },
   "outputs": [
    {
     "data": {
      "text/plain": [
       "{'test_rmse': array([0.7393633 , 0.78000509, 0.77575417, 0.78316674, 0.75637101]),\n",
       " 'test_mae': array([0.57335715, 0.60332839, 0.59566428, 0.60460636, 0.58036712]),\n",
       " 'fit_time': (0.2170405387878418,\n",
       "  0.2240009307861328,\n",
       "  0.24103760719299316,\n",
       "  0.20418167114257812,\n",
       "  0.2109968662261963),\n",
       " 'test_time': (0.00925755500793457,\n",
       "  0.006994724273681641,\n",
       "  0.006994009017944336,\n",
       "  0.006994485855102539,\n",
       "  0.008001089096069336)}"
      ]
     },
     "execution_count": 268,
     "metadata": {},
     "output_type": "execute_result"
    }
   ],
   "source": [
    "sim_options = {'name': 'pearson'}\n",
    "algo = surprise.SVDpp(n_factors=5, n_epochs=20)\n",
    "cross_validate(algo, data)"
   ]
  },
  {
   "cell_type": "markdown",
   "id": "a6449e13",
   "metadata": {},
   "source": [
    "### NMF"
   ]
  },
  {
   "cell_type": "code",
   "execution_count": 269,
   "id": "f57f4563",
   "metadata": {},
   "outputs": [],
   "source": [
    "from surprise.model_selection import GridSearchCV\n",
    "\n",
    "param_grid = {'n_epochs':[5,15, 25, 40], 'n_factors': [10, 50, 100]}\n",
    "\n",
    "grid = GridSearchCV(surprise.NMF, param_grid=param_grid,\n",
    "                   measures=['rmse','mae'], cv=3)\n",
    "\n",
    "grid.fit(data)"
   ]
  },
  {
   "cell_type": "code",
   "execution_count": 270,
   "id": "ef30c70e",
   "metadata": {},
   "outputs": [
    {
     "name": "stdout",
     "output_type": "stream",
     "text": [
      "0.9635601155031664\n",
      "{'n_epochs': 25, 'n_factors': 10}\n",
      "0.738333121685583\n",
      "{'n_epochs': 25, 'n_factors': 10}\n"
     ]
    }
   ],
   "source": [
    "print(grid.best_score['rmse'])\n",
    "print(grid.best_params['rmse'])\n",
    "print(grid.best_score['mae'])\n",
    "print(grid.best_params['mae'])"
   ]
  },
  {
   "cell_type": "code",
   "execution_count": 271,
   "id": "6b3e0718",
   "metadata": {},
   "outputs": [
    {
     "data": {
      "text/plain": [
       "{'test_rmse': array([0.93692967, 0.93936659, 1.00788337, 0.92060286, 0.95446345]),\n",
       " 'test_mae': array([0.71427939, 0.72411527, 0.76897258, 0.70285639, 0.72134225]),\n",
       " 'fit_time': (0.13072919845581055,\n",
       "  0.11000323295593262,\n",
       "  0.11100339889526367,\n",
       "  0.10216498374938965,\n",
       "  0.09998536109924316),\n",
       " 'test_time': (0.004001140594482422,\n",
       "  0.004000186920166016,\n",
       "  0.003996133804321289,\n",
       "  0.0029981136322021484,\n",
       "  0.004003286361694336)}"
      ]
     },
     "execution_count": 271,
     "metadata": {},
     "output_type": "execute_result"
    }
   ],
   "source": [
    "sim_options = {'name': 'msd'}\n",
    "algo = surprise.NMF(n_factors=10, n_epochs=25)\n",
    "cross_validate(algo, data)"
   ]
  },
  {
   "cell_type": "code",
   "execution_count": 272,
   "id": "be09c8c9",
   "metadata": {},
   "outputs": [
    {
     "data": {
      "text/plain": [
       "{'test_rmse': array([0.93225941, 0.94808391, 0.98058264, 0.98918404, 0.96188346]),\n",
       " 'test_mae': array([0.71468747, 0.72621891, 0.74922541, 0.74330484, 0.73253228]),\n",
       " 'fit_time': (0.1120755672454834,\n",
       "  0.10200071334838867,\n",
       "  0.09996414184570312,\n",
       "  0.1020052433013916,\n",
       "  0.09819316864013672),\n",
       " 'test_time': (0.004000425338745117,\n",
       "  0.0029973983764648438,\n",
       "  0.005034923553466797,\n",
       "  0.0029981136322021484,\n",
       "  0.003998756408691406)}"
      ]
     },
     "execution_count": 272,
     "metadata": {},
     "output_type": "execute_result"
    }
   ],
   "source": [
    "sim_options = {'name': 'cosine'}\n",
    "algo = surprise.NMF(n_factors=10, n_epochs=25)\n",
    "cross_validate(algo, data)"
   ]
  },
  {
   "cell_type": "code",
   "execution_count": 273,
   "id": "69982c14",
   "metadata": {},
   "outputs": [
    {
     "data": {
      "text/plain": [
       "{'test_rmse': array([0.93951446, 0.95979677, 1.006314  , 0.94928813, 0.89679449]),\n",
       " 'test_mae': array([0.72794053, 0.72958151, 0.75099425, 0.72273008, 0.69670144]),\n",
       " 'fit_time': (0.11899590492248535,\n",
       "  0.10599684715270996,\n",
       "  0.10003781318664551,\n",
       "  0.10796141624450684,\n",
       "  0.10303092002868652),\n",
       " 'test_time': (0.0030031204223632812,\n",
       "  0.004000186920166016,\n",
       "  0.003998756408691406,\n",
       "  0.004036426544189453,\n",
       "  0.003000497817993164)}"
      ]
     },
     "execution_count": 273,
     "metadata": {},
     "output_type": "execute_result"
    }
   ],
   "source": [
    "sim_options = {'name': 'pearson'}\n",
    "algo = surprise.NMF(n_factors=10, n_epochs=25)\n",
    "cross_validate(algo, data)"
   ]
  },
  {
   "cell_type": "code",
   "execution_count": 274,
   "id": "db1f624f",
   "metadata": {
    "scrolled": true
   },
   "outputs": [
    {
     "data": {
      "text/plain": [
       "{'test_rmse': array([0.96753981, 0.90544733, 0.96587848, 0.97294663, 0.9478574 ]),\n",
       " 'test_mae': array([0.71949914, 0.70535884, 0.74908522, 0.74141811, 0.73013405]),\n",
       " 'fit_time': (0.10652661323547363,\n",
       "  0.10499715805053711,\n",
       "  0.09900355339050293,\n",
       "  0.1009984016418457,\n",
       "  0.1100010871887207),\n",
       " 'test_time': (0.00400090217590332,\n",
       "  0.0039997100830078125,\n",
       "  0.004000663757324219,\n",
       "  0.004001140594482422,\n",
       "  0.003996133804321289)}"
      ]
     },
     "execution_count": 274,
     "metadata": {},
     "output_type": "execute_result"
    }
   ],
   "source": [
    "sim_options = {'name': 'pearson_baseline'}\n",
    "algo = surprise.NMF(n_factors=10, n_epochs=25)\n",
    "cross_validate(algo, data)"
   ]
  },
  {
   "cell_type": "code",
   "execution_count": null,
   "id": "2813e7bf",
   "metadata": {},
   "outputs": [],
   "source": []
  },
  {
   "cell_type": "code",
   "execution_count": null,
   "id": "ee085f62",
   "metadata": {},
   "outputs": [],
   "source": []
  },
  {
   "cell_type": "code",
   "execution_count": null,
   "id": "32d85eaf",
   "metadata": {},
   "outputs": [],
   "source": []
  }
 ],
 "metadata": {
  "kernelspec": {
   "display_name": "Python 3 (ipykernel)",
   "language": "python",
   "name": "python3"
  },
  "language_info": {
   "codemirror_mode": {
    "name": "ipython",
    "version": 3
   },
   "file_extension": ".py",
   "mimetype": "text/x-python",
   "name": "python",
   "nbconvert_exporter": "python",
   "pygments_lexer": "ipython3",
   "version": "3.8.10"
  }
 },
 "nbformat": 4,
 "nbformat_minor": 5
}
